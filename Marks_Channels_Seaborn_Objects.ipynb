{
  "nbformat": 4,
  "nbformat_minor": 0,
  "metadata": {
    "colab": {
      "provenance": [],
      "toc_visible": true,
      "authorship_tag": "ABX9TyPMzwonc2VMr3n+jGoSLOHY",
      "include_colab_link": true
    },
    "kernelspec": {
      "name": "python3",
      "display_name": "Python 3"
    },
    "language_info": {
      "name": "python"
    }
  },
  "cells": [
    {
      "cell_type": "markdown",
      "metadata": {
        "id": "view-in-github",
        "colab_type": "text"
      },
      "source": [
        "<a href=\"https://colab.research.google.com/github/odu-cs625-datavis/public-fall23-mcw/blob/main/Marks_Channels_Seaborn_Objects.ipynb\" target=\"_parent\"><img src=\"https://colab.research.google.com/assets/colab-badge.svg\" alt=\"Open In Colab\"/></a>"
      ]
    },
    {
      "cell_type": "markdown",
      "source": [
        "# Marks and Channels with Seaborn Objects Tutorial\n",
        "\n",
        "Marks, channels, and data types are the building blocks of creating charts and visualizations. We will use this terminology in our coding examples.\n",
        "\n",
        "From Chapter 5 in [VAD](https://www.cs.ubc.ca/~tmm/vadbook/):\n",
        "* \"*marks* are the basic geometric elements that depcit items or links\"\n",
        "* \"*channels* control their [marks] appearance\"\n",
        "* \"the effectiveness of a channel for encoding data depends on its *type*\"\n",
        "\n",
        "References:\n",
        "* A Quick Introduction to the Seaborn Objects System, https://www.sharpsightlabs.com/blog/seaborn-objects-introduction/\n",
        "* The seaborn.objects interface, https://seaborn.pydata.org/tutorial/objects_interface.html\n",
        "* Properties of Mark objects, https://seaborn.pydata.org/tutorial/properties.html\n",
        "\n",
        "To work along with this tutorial, sign in to your Google account and File > Save a copy in Drive."
      ],
      "metadata": {
        "id": "shXWgweaWGw9"
      }
    },
    {
      "cell_type": "markdown",
      "source": [
        "## Data\n",
        "\n",
        "First, we'll import the dataset that we'll use for this tutorial.  We will visualize global health and population measures for countries of the world, recorded over the years 1955 to 2005. The data was collected by the [Gapminder Foundation](https://www.gapminder.org/) and shared in [Hans Rosling's popular TED talk](https://www.youtube.com/watch?v=hVimVzgtD6w). (If you haven't seen the talk, I encourage you to watch it!)\n",
        "\n",
        "(The vega-datasets GitHub repo has lots of sample datasets that you can use to practice, see https://github.com/vega/vega-datasets/blob/main/SOURCES.md.)\n",
        "\n",
        "We'll use Pandas to import the gapminder.json datafile into a dataframe."
      ],
      "metadata": {
        "id": "oNreEPrceaWO"
      }
    },
    {
      "cell_type": "code",
      "source": [
        "import pandas as pd"
      ],
      "metadata": {
        "id": "9Wxi1-6xe97B"
      },
      "execution_count": null,
      "outputs": []
    },
    {
      "cell_type": "code",
      "source": [
        "df = pd.read_json('https://cdn.jsdelivr.net/npm/vega-datasets@2/data/gapminder.json')"
      ],
      "metadata": {
        "id": "csVAN0IrfAPs"
      },
      "execution_count": null,
      "outputs": []
    },
    {
      "cell_type": "code",
      "source": [
        "print (df.head())"
      ],
      "metadata": {
        "id": "pys9LACKfHQo"
      },
      "execution_count": null,
      "outputs": []
    },
    {
      "cell_type": "markdown",
      "source": [
        "For each `country` and `year` (in 5-year intervals), we have measures of fertility in terms of the number of children per woman (`fertility`), life expectancy in years (`life_expect`), and total population (`pop`)."
      ],
      "metadata": {
        "id": "BqRqKsFWgAWQ"
      }
    },
    {
      "cell_type": "markdown",
      "source": [
        "Next, we'll create some smaller dataframes that we'll use later. The one below should contain the data only for the year 2000."
      ],
      "metadata": {
        "id": "KXmNCQfaIuBC"
      }
    },
    {
      "cell_type": "code",
      "source": [
        "df_2000 = df.query(\"year == 2000\")\n",
        "print (df_2000.head())"
      ],
      "metadata": {
        "id": "SdbOc8__gSjY"
      },
      "execution_count": null,
      "outputs": []
    },
    {
      "cell_type": "markdown",
      "source": [
        "This one has data for countries labeled cluster 1 in the year 2000."
      ],
      "metadata": {
        "id": "52vjOzDMNsED"
      }
    },
    {
      "cell_type": "code",
      "source": [
        "df_2000c1 = df_2000.query(\"cluster == 1\")\n",
        "print(df_2000c1.head())"
      ],
      "metadata": {
        "id": "ekg9jymDNdQh"
      },
      "execution_count": null,
      "outputs": []
    },
    {
      "cell_type": "markdown",
      "source": [
        "We'll also create a dataset that has values only for the US."
      ],
      "metadata": {
        "id": "Lh91wXYkinKJ"
      }
    },
    {
      "cell_type": "code",
      "source": [
        "df_US = df.query(\"country == 'United States'\")\n",
        "print(df_US.head())"
      ],
      "metadata": {
        "id": "4UPeL0cIirJQ"
      },
      "execution_count": null,
      "outputs": []
    },
    {
      "cell_type": "markdown",
      "source": [
        "Finally, we'll have a set with only a few countries."
      ],
      "metadata": {
        "id": "ndIm8I6uI1fx"
      }
    },
    {
      "cell_type": "code",
      "source": [
        "df_5countries = df.query(\"country in ('United States', 'France', 'Austria', 'Brazil', 'Germany')\")\n",
        "print(df_5countries.head())"
      ],
      "metadata": {
        "id": "QSom0qVwI1E8"
      },
      "execution_count": null,
      "outputs": []
    },
    {
      "cell_type": "code",
      "source": [
        "df_2000_5countries = df_5countries.query(\"year == 2000\")"
      ],
      "metadata": {
        "id": "iiMQEoTmZGQ4"
      },
      "execution_count": null,
      "outputs": []
    },
    {
      "cell_type": "markdown",
      "source": [
        "## Seaborn's Objects Interface\n",
        "\n",
        "In September 2022, the seaborn.objects interface was released. It is based on the [Grammar of Graphics](https://vita.had.co.nz/papers/layered-grammar.pdf), which is what R's [ggplot2](https://ggplot2.tidyverse.org/) is also based on. So, if you've created charts in R before, this should be a bit familiar. It also follows along with the VAD textbook's terminology of marks and channels."
      ],
      "metadata": {
        "id": "HzY4cdr-X1Bi"
      }
    },
    {
      "cell_type": "markdown",
      "source": [
        "First, we need to import the library:"
      ],
      "metadata": {
        "id": "qQ94cCp7bDRl"
      }
    },
    {
      "cell_type": "code",
      "source": [
        "import seaborn as sns\n",
        "import seaborn.objects as so"
      ],
      "metadata": {
        "id": "OViwpXw9bG0m"
      },
      "execution_count": null,
      "outputs": []
    },
    {
      "cell_type": "markdown",
      "source": [
        "Every Seaborn Objects chart uses the [`so.Plot()`](https://seaborn.pydata.org/generated/seaborn.objects.Plot.html) function."
      ],
      "metadata": {
        "id": "TewGjVTIdyoW"
      }
    },
    {
      "cell_type": "code",
      "source": [
        "so.Plot()"
      ],
      "metadata": {
        "id": "nMQ3-Vkjdz8J"
      },
      "execution_count": null,
      "outputs": []
    },
    {
      "cell_type": "markdown",
      "source": [
        "Note that inside the notebook environment, you don't need to explicitly call the [`show()`](https://seaborn.pydata.org/generated/seaborn.objects.Plot.show.html) function, but if you want to run these scripts locally, you'll need to add `.show()` as the final command: `so.Plot().show()`"
      ],
      "metadata": {
        "id": "MIR5CVo2lSKo"
      }
    },
    {
      "cell_type": "markdown",
      "source": [
        "`so.Plot()` takes several parameters, the most important of which are `data`, `x`, and `y`. As you might expect, `data` specifies the dataframe to use.\n",
        "\n",
        "Most charts will map data to the position channels, so `x` specifies the attribute (column in the dataframe) to be mapped to the horizontal position *channel*, and `y` specifies the attribute to be mapped to the vertical position *channel*."
      ],
      "metadata": {
        "id": "tkLaKOvag4CS"
      }
    },
    {
      "cell_type": "code",
      "source": [
        "(so.Plot(data=df_2000,\n",
        "         x='fertility',\n",
        "         y='life_expect')\n",
        ")"
      ],
      "metadata": {
        "id": "YuTz-gg1iFYg"
      },
      "execution_count": null,
      "outputs": []
    },
    {
      "cell_type": "markdown",
      "source": [
        "The axes are set, but there's nothing in the chart because no *mark* has been specified.  That's where the `add()` function comes in.\n",
        "\n",
        "There are several types of marks available ([full list](https://seaborn.pydata.org/api.html#mark-objects)).  Some of the more common are:\n",
        "* [`so.Dot()`](https://seaborn.pydata.org/generated/seaborn.objects.Dot.html)\n",
        "* [`so.Line()`](https://seaborn.pydata.org/generated/seaborn.objects.Line.html)\n",
        "* [`so.Bar()`](https://seaborn.pydata.org/generated/seaborn.objects.Bar.html)\n",
        "* [`so.Area()`](https://seaborn.pydata.org/generated/seaborn.objects.Area.html)"
      ],
      "metadata": {
        "id": "TkLdyjY3iVnw"
      }
    },
    {
      "cell_type": "code",
      "source": [
        "(so.Plot(data=df_2000,\n",
        "         x='fertility',\n",
        "         y='life_expect')\n",
        "  .add(so.Dot())\n",
        ")"
      ],
      "metadata": {
        "id": "pVlutWqbjSIe"
      },
      "execution_count": null,
      "outputs": []
    },
    {
      "cell_type": "markdown",
      "source": [
        "We can apply additional channels to the marks by specifying them as parameters to `so.Plot()`.\n",
        "\n",
        "A key thing to note is that when you set `color` in the `Plot()` function, it *maps* the channel to the data. If you set the color in the `Dot()` function, it sets the color directly (i.e., it's not tied to the data)."
      ],
      "metadata": {
        "id": "G3OUz5itjsl-"
      }
    },
    {
      "cell_type": "code",
      "source": [
        "(so.Plot(data=df_2000,\n",
        "         x='fertility',\n",
        "         y='life_expect',\n",
        "         color='cluster',\n",
        "         pointsize='pop')\n",
        "  .add(so.Dot())\n",
        ")"
      ],
      "metadata": {
        "id": "ShZ7c8pUj0lY"
      },
      "execution_count": null,
      "outputs": []
    },
    {
      "cell_type": "markdown",
      "source": [
        "As you can tell, there's some customization that needs to be done, but we'll get to that later."
      ],
      "metadata": {
        "id": "iTnjJj4Snj24"
      }
    },
    {
      "cell_type": "markdown",
      "source": [
        "You can see the difference between *mapping* color and *setting* color here."
      ],
      "metadata": {
        "id": "nSupy7TDV8Vu"
      }
    },
    {
      "cell_type": "code",
      "source": [
        "(so.Plot(data=df_2000,\n",
        "         x='fertility',\n",
        "         y='life_expect',\n",
        "         pointsize='pop')\n",
        "  .add(so.Dot(color=\"green\"))\n",
        ")"
      ],
      "metadata": {
        "id": "bue7iecpV_WP"
      },
      "execution_count": null,
      "outputs": []
    },
    {
      "cell_type": "markdown",
      "source": [
        "### Q1\n",
        "\n",
        "*What happens if you set color in both `Plot()` and `Dot()`?*\n",
        "\n",
        "Create a new cell and enter the code below."
      ],
      "metadata": {
        "id": "3zC9ODW0XqZk"
      }
    },
    {
      "cell_type": "markdown",
      "source": [
        "We looked at using the following channels so far: position on the horizontal axis (`x`), position on the vertical axis (`y`), color (`color`), and area (`pointsize`).  Here we'll show examples of using some of the other channels."
      ],
      "metadata": {
        "id": "M2lEebJeLuwS"
      }
    },
    {
      "cell_type": "markdown",
      "source": [
        "We can apply the shape channel to point marks using the [`marker`](https://seaborn.pydata.org/tutorial/properties.html#marker) property."
      ],
      "metadata": {
        "id": "xP3G45pYT6Gm"
      }
    },
    {
      "cell_type": "code",
      "source": [
        "(so.Plot(data=df_2000,\n",
        "         x='fertility',\n",
        "         y='life_expect',\n",
        "         marker='cluster')\n",
        "  .add(so.Dot())\n",
        ")"
      ],
      "metadata": {
        "id": "uK_PBIWIUSYX"
      },
      "execution_count": null,
      "outputs": []
    },
    {
      "cell_type": "markdown",
      "source": [
        "We can use a line mark as a connector between points.  We can add multiple marks by including more `add()` functions (in this example, both points and lines)."
      ],
      "metadata": {
        "id": "xM9TSEzcOWnD"
      }
    },
    {
      "cell_type": "code",
      "source": [
        "(so.Plot(data=df_US, x='year', y='fertility')\n",
        "  .add(so.Dot())\n",
        "  .add(so.Line())\n",
        ")"
      ],
      "metadata": {
        "id": "Fj_yGbQmOgj5"
      },
      "execution_count": null,
      "outputs": []
    },
    {
      "cell_type": "markdown",
      "source": [
        "We can use color to split items by a categorical value.  Below, we'll map the color channel to country name and when we use lines, we'll get a different color line for each country."
      ],
      "metadata": {
        "id": "5y1SWCXYIEiD"
      }
    },
    {
      "cell_type": "code",
      "source": [
        "(so.Plot(data=df_5countries, x='year', y='fertility',\n",
        "         color='country')\n",
        "  .add(so.Line())\n",
        ")"
      ],
      "metadata": {
        "id": "h2SnqQFvITJz"
      },
      "execution_count": null,
      "outputs": []
    },
    {
      "cell_type": "markdown",
      "source": [
        "Note that the colors used here different *hues*, so they are appropriate for categorical data."
      ],
      "metadata": {
        "id": "y_MXkBi2al64"
      }
    },
    {
      "cell_type": "markdown",
      "source": [
        "### Q2\n",
        "\n",
        "Why were the colors different (using different saturation values rather than different hues) when `cluster` was the attribute that color was mapped to?"
      ],
      "metadata": {
        "id": "oJtbcb2ThOnz"
      }
    },
    {
      "cell_type": "markdown",
      "source": [
        "We can also show this same chart with a filled area."
      ],
      "metadata": {
        "id": "D7Kihkq1SqXp"
      }
    },
    {
      "cell_type": "code",
      "source": [
        "(so.Plot(data=df_5countries, x='year', y='fertility',\n",
        "         color='country')\n",
        "  .add(so.Area())\n",
        ")"
      ],
      "metadata": {
        "id": "0xufqggXPc1H"
      },
      "execution_count": null,
      "outputs": []
    },
    {
      "cell_type": "markdown",
      "source": [
        "Below we use a line mark with horizontal spatial region based on country name and position on the vertical axis based on population. Although we call it a line mark in VAD terminology, it's called a bar mark in Seaborn."
      ],
      "metadata": {
        "id": "uK2-UjGpN0BC"
      }
    },
    {
      "cell_type": "code",
      "source": [
        "(so.Plot(data=df_2000c1, x='country', y='pop')\n",
        "  .add(so.Bar())\n",
        ")"
      ],
      "metadata": {
        "id": "XFvKYo2YM_nB"
      },
      "execution_count": null,
      "outputs": []
    },
    {
      "cell_type": "markdown",
      "source": [
        "We can flip this so it's more readable and map the country name to the vertical spatial region, just by swapping the x and y parameters."
      ],
      "metadata": {
        "id": "85WZ_Gh1ODrj"
      }
    },
    {
      "cell_type": "code",
      "source": [
        "(so.Plot(data=df_2000c1, y='country', x='pop')\n",
        "  .add(so.Bar())\n",
        ")"
      ],
      "metadata": {
        "id": "J640QNjqOL-I"
      },
      "execution_count": null,
      "outputs": []
    },
    {
      "cell_type": "markdown",
      "source": [
        "There are several statistical transformations that can be applied to data, using `Stat` objects.  We'll look at using the [`Agg()`](https://seaborn.pydata.org/generated/seaborn.objects.Agg.html#) that operates on each group separately. The default action is to compute the mean.\n",
        "\n",
        "In this example, we'll compute the mean fertility rate for each country over all the years.\n",
        "\n"
      ],
      "metadata": {
        "id": "-MOGrg1yO3IW"
      }
    },
    {
      "cell_type": "code",
      "source": [
        "(so.Plot(data=df_5countries, y='country', x='fertility')\n",
        "  .add(so.Bar(), so.Agg())\n",
        ")"
      ],
      "metadata": {
        "id": "3FdNQUCKPEtx"
      },
      "execution_count": null,
      "outputs": []
    },
    {
      "cell_type": "markdown",
      "source": [
        "# Extra Customizations\n",
        "\n",
        "In this section, we'll look at some extra customizations for Seaborn charts.\n",
        "\n",
        "* theme customization, using [`Plot.theme()`](https://seaborn.pydata.org/generated/seaborn.objects.Plot.theme.html)\n",
        "  * the note on the API page says that currently the only valid argument is a dict of matplotlib [rc parameters](https://matplotlib.org/stable/tutorials/introductory/customizing.html)\n",
        "  * these parameters can also include Seaborn [`axes_style`](https://seaborn.pydata.org/generated/seaborn.axes_style.html) parameters ([examples](https://seaborn.pydata.org/tutorial/aesthetics.html#seaborn-figure-styles))\n",
        "* color palettes, using [`Plot.scale()`](https://seaborn.pydata.org/generated/seaborn.objects.Plot.scale.html)\n",
        "* mark customization (edge color, thickness, fill color, size ranges)\n",
        "* titles and labels, using [`Plot.label()`](https://seaborn.pydata.org/generated/seaborn.objects.Plot.label.html)\n",
        "* axis label formatting\n",
        "* chart size, using [`Plot.layout()`](https://seaborn.pydata.org/generated/seaborn.objects.Plot.layout.html)\n"
      ],
      "metadata": {
        "id": "PNgnNZykb7mv"
      }
    },
    {
      "cell_type": "code",
      "source": [
        "from seaborn import axes_style"
      ],
      "metadata": {
        "id": "ZMtWkVB6kvP5"
      },
      "execution_count": null,
      "outputs": []
    },
    {
      "cell_type": "markdown",
      "source": [
        "We'll look at most of these customizations with the same base chart."
      ],
      "metadata": {
        "id": "XteLxmBilzgf"
      }
    },
    {
      "cell_type": "code",
      "source": [
        "(so.Plot(data=df_2000,\n",
        "         x='fertility',\n",
        "         y='life_expect',\n",
        "         color='cluster',\n",
        "         pointsize='pop')\n",
        "  .add(so.Dot())\n",
        ")"
      ],
      "metadata": {
        "id": "Oig7P1B-kujw"
      },
      "execution_count": null,
      "outputs": []
    },
    {
      "cell_type": "markdown",
      "source": [
        "The customization below uses the `ticks` style, which has a white background with outside tick marks."
      ],
      "metadata": {
        "id": "jRVMe1FfmD1r"
      }
    },
    {
      "cell_type": "code",
      "source": [
        "(so.Plot(data=df_2000,\n",
        "         x='fertility',\n",
        "         y='life_expect',\n",
        "         color='cluster',\n",
        "         pointsize='pop')\n",
        "  .add(so.Dot())\n",
        "  .theme({**axes_style(\"ticks\")})  # change theme\n",
        ")"
      ],
      "metadata": {
        "id": "is3Z3rPpl5xV"
      },
      "execution_count": null,
      "outputs": []
    },
    {
      "cell_type": "markdown",
      "source": [
        "Scales, such as axis scales and color scales, are controlled with the [`Plot.scale()`](https://seaborn.pydata.org/generated/seaborn.objects.Plot.scale.html) function.\n",
        "\n",
        "We'll first look at adjusting the colors used for the clusters. In [Q2](https://colab.research.google.com/drive/1u4Szlh00_FixXDyNdAKeDvQoTE1i7PMO#scrollTo=oJtbcb2ThOnz), we noted that the color scale used *color saturation* for the `cluster` attribute. *Color saturation* is a *magnitude channel* that is suitable for an *ordered attribute*. However, the cluster is the result of some grouping, so it's really a *categorical attribute*. Thus, we need to specify a color palette based on *color hue*, which is an *identity channel*.\n",
        "\n",
        "Various color palettes are shown in the [Choosing color palettes tutorial](https://seaborn.pydata.org/tutorial/color_palettes.html). For this example, we'll pick the `tab10` palette."
      ],
      "metadata": {
        "id": "29FywoRJ1JY4"
      }
    },
    {
      "cell_type": "code",
      "source": [
        "(so.Plot(data=df_2000,\n",
        "         x='fertility',\n",
        "         y='life_expect',\n",
        "         color='cluster',\n",
        "         pointsize='pop')\n",
        "  .add(so.Dot())\n",
        "  .theme({**axes_style(\"ticks\")})\n",
        "  .scale(color=\"tab10\")            # change color palette\n",
        ")"
      ],
      "metadata": {
        "id": "DnRlPv4R11oQ"
      },
      "execution_count": null,
      "outputs": []
    },
    {
      "cell_type": "markdown",
      "source": [
        "In some of the smaller dots, it's difficult to see the color, so one thing we could add is a black border around the dots to see if that will help them stand out. For this, we can specify the [`edgecolor` parameter](https://seaborn.pydata.org/tutorial/properties.html#color-properties) to the mark."
      ],
      "metadata": {
        "id": "51VEgbRGGrLo"
      }
    },
    {
      "cell_type": "code",
      "source": [
        "(so.Plot(data=df_2000,\n",
        "         x='fertility',\n",
        "         y='life_expect',\n",
        "         color='cluster',\n",
        "         pointsize='pop')\n",
        "  .add(so.Dot(edgecolor=\"black\"))  # add border on dot\n",
        "  .theme({**axes_style(\"ticks\")})\n",
        "  .scale(color=\"tab10\")\n",
        ")"
      ],
      "metadata": {
        "id": "sEOIl5Fh14aG"
      },
      "execution_count": null,
      "outputs": []
    },
    {
      "cell_type": "markdown",
      "source": [
        "Yet another option would be to use unfilled circles instead of filled circles to help distinguish between dots that might be overlapping. For this, we can use [`so.Dots()`](https://seaborn.pydata.org/generated/seaborn.objects.Dots.html) instead of `so.Dot()`."
      ],
      "metadata": {
        "id": "XzRfp1sQHufG"
      }
    },
    {
      "cell_type": "code",
      "source": [
        "(so.Plot(data=df_2000,\n",
        "         x='fertility',\n",
        "         y='life_expect',\n",
        "         color='cluster',\n",
        "         pointsize='pop')\n",
        "  .add(so.Dots())                    # use open circles\n",
        "  .theme({**axes_style(\"ticks\")})\n",
        "  .scale(color=\"tab10\")\n",
        ")"
      ],
      "metadata": {
        "id": "zsy1A4PXHSXC"
      },
      "execution_count": null,
      "outputs": []
    },
    {
      "cell_type": "markdown",
      "source": [
        "By default, the fill color is a lower saturation version of the edge color. But, in the same way that you can set the `edgecolor` for all dots, you can also set the `fillcolor`.\n",
        "\n",
        "Also, with `so.Dots()`, we can set the `stroke` size to make the border thicker. Note that for some marks, including [`so.Dot()`](https://seaborn.pydata.org/generated/seaborn.objects.Dot.html), this thickness is controlled by the `edgewidth` property.  These differences are all named in the API documentation."
      ],
      "metadata": {
        "id": "f25yt27PIKQV"
      }
    },
    {
      "cell_type": "code",
      "source": [
        "(so.Plot(data=df_2000,\n",
        "         x='fertility',\n",
        "         y='life_expect',\n",
        "         color='cluster',\n",
        "         pointsize='pop')\n",
        "  .add(so.Dots(fillcolor=\"white\", stroke=1.5))  # change fill color and border size\n",
        "  .theme({**axes_style(\"ticks\")})\n",
        "  .scale(color=\"tab10\")\n",
        ")"
      ],
      "metadata": {
        "id": "6Q6gyL0AH-IT"
      },
      "execution_count": null,
      "outputs": []
    },
    {
      "cell_type": "markdown",
      "source": [
        "Next, let's look at adjusting the circle sizes. Just as we changed the range of colors used for the clusters, we can adjust the range of sizes used for population using `Plot.scale()` to modify the `pointsize` channel.\n",
        "\n",
        "In this first example, we'll just adjust the range for the [`pointsize`](https://seaborn.pydata.org/tutorial/properties.html#pointsize-property) channel to be the tuple `(1,20)`. Note that the documentation specifies that the magnitude is represented by the diameter of the circle rather than the area."
      ],
      "metadata": {
        "id": "JODotmr7Jsqt"
      }
    },
    {
      "cell_type": "code",
      "source": [
        "(so.Plot(data=df_2000,\n",
        "         x='fertility',\n",
        "         y='life_expect',\n",
        "         color='cluster',\n",
        "         pointsize='pop')\n",
        "  .add(so.Dots(fillcolor=\"white\", stroke=1.5))\n",
        "  .theme({**axes_style(\"ticks\")})\n",
        "  .scale(color=\"tab10\",\n",
        "         pointsize=(1,20))     # change circle size range\n",
        ")"
      ],
      "metadata": {
        "id": "FOggh-lJIVS8"
      },
      "execution_count": null,
      "outputs": []
    },
    {
      "cell_type": "markdown",
      "source": [
        "In addition to making the range of the circles larger, we can also make the legend look nicer.  \n",
        "\n",
        "Since we want a bit more control, we'll use the [so.Continuous()](https://seaborn.pydata.org/generated/seaborn.objects.Continuous.html) function. We can still specify the range as the `(1,20)` tuple, but we can also increase the number of circle sizes shown using `tick` and format the number shown using `label`:\n",
        "\n",
        "* `tick(upto=5)` says to choose \"nice\" locations (like even numbers) for the divisions, but don't create more than 5 divisions\n",
        "\n",
        "* `label(unit=\"\")` says to use [SI prefixes](https://en.wikipedia.org/wiki/Metric_prefix) with the given unit. Since population doesn't have a unit (like grams (g) for instance), we can specify no additional suffix by using `\"\"`."
      ],
      "metadata": {
        "id": "OggjNL6VPV2i"
      }
    },
    {
      "cell_type": "code",
      "source": [
        "(so.Plot(data=df_2000,\n",
        "         x='fertility',\n",
        "         y='life_expect',\n",
        "         color='cluster',\n",
        "         pointsize='pop')\n",
        "  .add(so.Dots(fillcolor=\"white\", stroke=1.5))\n",
        "  .theme({**axes_style(\"ticks\")})\n",
        "  .scale(color=\"tab10\",\n",
        "         # change circle size range, number of circles in legend, label SI units\n",
        "         pointsize=so.Continuous((1,20)).tick(upto=5).label(unit=\"\"))\n",
        ")"
      ],
      "metadata": {
        "id": "Tb9YdxjoKFFA"
      },
      "execution_count": null,
      "outputs": []
    },
    {
      "cell_type": "markdown",
      "source": [
        "### Q3\n",
        "Edit the cell above to experiment with different values for `upto`.  \n",
        "\n",
        "Then, copy the code into a new cell below and replace `upto` with `count` and specify a number of circles to be shown in the legend.  \n",
        "\n",
        "*What difference do you see with using `upto` vs. `count`?*"
      ],
      "metadata": {
        "id": "XalqdQ5PQznp"
      }
    },
    {
      "cell_type": "markdown",
      "source": [
        "Now let's look at customizing the labels and titles on the chart using [`Plot.label()`](https://seaborn.pydata.org/generated/seaborn.objects.Plot.label.html). We can provide a label for each channel that we specify in `Plot()` as well as a `title` for the chart.\n",
        "\n"
      ],
      "metadata": {
        "id": "5e2V_jOiSxmO"
      }
    },
    {
      "cell_type": "code",
      "source": [
        "(so.Plot(data=df_2000,\n",
        "         x='fertility',\n",
        "         y='life_expect',\n",
        "         color='cluster',\n",
        "         pointsize='pop')\n",
        "  .add(so.Dots(fillcolor=\"white\", stroke=1.5))\n",
        "  .theme({**axes_style(\"ticks\")})\n",
        "  .scale(color=\"tab10\",\n",
        "         pointsize=so.Continuous((1,20)).tick(upto=5).label(unit=\"\"))\n",
        "  .label(x=\"Fertility (children per woman)\",       # set title, x, y, and legend labels\n",
        "         y=\"Life Expectancy (years)\",\n",
        "         color=\"Region (cluster)\",\n",
        "         pointsize=\"Population\",\n",
        "         title=\"Countries with higher fertility tend to have lower life expectancy\")\n",
        ")"
      ],
      "metadata": {
        "id": "MhQ2zKwBRCGW"
      },
      "execution_count": null,
      "outputs": []
    },
    {
      "cell_type": "markdown",
      "source": [
        "We can also use the `so.Continuous().label()` function to adjust how items on the main x,y axis are labeled. For instance, in bar chart showing population below, the population values are displayed in scientific notation by default."
      ],
      "metadata": {
        "id": "m9MF_OaeW1WI"
      }
    },
    {
      "cell_type": "code",
      "source": [
        "(so.Plot(data=df_2000_5countries,\n",
        "         x='country',\n",
        "         y='pop')\n",
        "  .add(so.Bar())\n",
        ")"
      ],
      "metadata": {
        "id": "4SSshILiXNHt"
      },
      "execution_count": null,
      "outputs": []
    },
    {
      "cell_type": "markdown",
      "source": [
        "We can apply `so.Continuous().label()` to the y scale to adjust this display."
      ],
      "metadata": {
        "id": "Cg0tHqhSXYb3"
      }
    },
    {
      "cell_type": "code",
      "source": [
        "(so.Plot(data=df_2000_5countries,\n",
        "         x='country',\n",
        "         y='pop')\n",
        "  .add(so.Bar())\n",
        "  .scale(y=so.Continuous().label(unit=\"\"))  # use SI units\n",
        ")"
      ],
      "metadata": {
        "id": "8oCXjZ1tXf0u"
      },
      "execution_count": null,
      "outputs": []
    },
    {
      "cell_type": "markdown",
      "source": [
        "If we want to use commas instead of SI units, we can use the `like=` parameter with a [formatter](https://docs.python.org/3/library/string.html#format-examples)."
      ],
      "metadata": {
        "id": "E1RZ0Lj3ZfKI"
      }
    },
    {
      "cell_type": "code",
      "source": [
        "(so.Plot(data=df_2000_5countries,\n",
        "         x='country',\n",
        "         y='pop')\n",
        "  .add(so.Bar())\n",
        "  .scale(y=so.Continuous().label(like=\"{x:,.0f}\"))  # use formatter (commas, 0 digits after the decimal)\n",
        ")"
      ],
      "metadata": {
        "id": "mdetxR6QYIsC"
      },
      "execution_count": null,
      "outputs": []
    },
    {
      "cell_type": "markdown",
      "source": [
        "Our final customization is to change the chart size. Let's make it wider so that it fills more of the screen.  This can be done with [`Plot.layout()`](https://seaborn.pydata.org/generated/seaborn.objects.Plot.layout.html)."
      ],
      "metadata": {
        "id": "3z-OLHXBUr3-"
      }
    },
    {
      "cell_type": "code",
      "source": [
        "(so.Plot(data=df_2000,\n",
        "         x='fertility',\n",
        "         y='life_expect',\n",
        "         color='cluster',\n",
        "         pointsize='pop')\n",
        "  .add(so.Dots(fillcolor=\"white\", stroke=1.5))\n",
        "  .theme({**axes_style(\"ticks\")})\n",
        "  .scale(color=\"tab10\",\n",
        "         pointsize=so.Continuous((1,20)).tick(upto=5).label(unit=\"\"))\n",
        "  .label(x=\"Fertility (children per woman)\",\n",
        "         y=\"Life Expectancy (years)\",\n",
        "         color=\"Region (cluster)\",\n",
        "         pointsize=\"Population\",\n",
        "         title=\"Countries with higher fertility tend to have lower life expectancy\")\n",
        "  .layout(size=(12,6))           # change plot size\n",
        ")"
      ],
      "metadata": {
        "id": "SiL8JrZpTxys"
      },
      "execution_count": null,
      "outputs": []
    }
  ]
}